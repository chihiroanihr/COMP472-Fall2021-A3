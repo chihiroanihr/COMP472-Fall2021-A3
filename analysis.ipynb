{
 "cells": [
  {
   "cell_type": "code",
   "execution_count": 225,
   "metadata": {},
   "outputs": [],
   "source": [
    "import pandas as pd\n",
    "import matplotlib.pyplot as plt\n",
    "import os"
   ]
  },
  {
   "cell_type": "code",
   "execution_count": 226,
   "metadata": {},
   "outputs": [],
   "source": [
    "cwd = os.getcwd()\n",
    "directory = cwd + \"/outputs/\"\n",
    "analysis_path = directory + 'analysis.csv'\n",
    "\n",
    "# new dataframe created to system model analysis\n",
    "analysis_df = pd.DataFrame(columns=['model_info', 'corpus_size', '#correct_labels', '#questions_answered_no_guess', 'accuracy_model'])\n",
    "\n",
    "\n",
    "# initialize appendable analysis.csv file\n",
    "def initialize_file():\n",
    "    if(os.path.exists(analysis_path) and os.path.isfile(analysis_path)):\n",
    "        os.remove(analysis_path)\n",
    "        print(\"analysis.csv file initialized\")\n",
    "\n",
    "\n",
    "# read all result csv files from outputs folder\n",
    "def read_csv():\n",
    "    available_models = {}\n",
    "    for filename in os.listdir(directory):\n",
    "        if filename.endswith(\".csv\"): \n",
    "            df = pd.read_csv(directory + filename)\n",
    "            available_models[filename] = df\n",
    "            continue\n",
    "        else:\n",
    "            continue\n",
    "    return available_models\n",
    "\n",
    "\n",
    "# create new analysis dataframe\n",
    "def analysis(model, model_path):\n",
    "    vocab_size = len(model)     # size of the vocabulary(corpus) in model\n",
    "    num_labels_dict = model[\"label\"].value_counts()    # returns dictionary with frequency elements in all labels\n",
    "    num_correct_labels = num_labels_dict[\"correct\"]         # number of all elements with correct label\n",
    "    V = num_labels_dict[\"correct\"] + num_labels_dict[\"wrong\"]   # number of all elements with no guess label\n",
    "    accuracy_model_val = num_correct_labels / V             # accuracy model value (C/V)\n",
    "    \n",
    "    model_name = model_path.strip(\"-details.csv\")\n",
    "    name = model_name.rsplit('-', 1)[0]\n",
    "    embedding_size = model_name.rsplit('-', 1)[1]\n",
    "    model_info = name + \"-\" + str(embedding_size)\n",
    "    \n",
    "    # append all the data (model_name, corpus_size, #correct_labels, #questions_answered_no_guess, accuracy_model) \n",
    "    # to new dataframe\n",
    "    analysis_df.loc[0] = [model_info, vocab_size, num_correct_labels, V, accuracy_model_val]\n",
    "    \n",
    "    return analysis_df\n",
    "\n",
    "\n",
    "# save dataframe to analysis.csv file\n",
    "def save(analysis_df, model_name):\n",
    "    # save model analysis to -analysis.csv\n",
    "    if os.path.exists(analysis_path):\n",
    "        analysis_df.to_csv(analysis_path, mode='a', header=False, index=False)\n",
    "        print(model_name + \" info successfully stored in analysis.csv\")\n",
    "    else:\n",
    "        analysis_df.to_csv(analysis_path, mode='w', header=True, index=False)\n",
    "\n",
    "\n",
    "def make_dir():\n",
    "    cwd = os.getcwd()\n",
    "    directory = cwd + \"/graphs/\"\n",
    "\n",
    "    # Create target Directory\n",
    "    try:\n",
    "        os.mkdir(directory)\n",
    "        print(\"Output Directory Created \")\n",
    "    except FileExistsError:\n",
    "        print(\"Output Directory already exists\")\n",
    "        \n",
    "    print(\"Files will be stored in directory: \" + directory)   \n",
    "    \n",
    "    return directory\n",
    "\n",
    "\n",
    "def plot():\n",
    "    left = []                           # x-coordinates of left sides of bars\n",
    "    height = []      # heights of bars\n",
    "    tick_label = []                     # labels for bars\n",
    "    \n",
    "    df = pd.read_csv(analysis_path)\n",
    "    for index, row in df.iterrows():\n",
    "        left.append(index+1)\n",
    "        tick_label.append(row['model_info'])\n",
    "        height.append(row['accuracy_model'] * 100)\n",
    "        plt.text(x=index+0.7, y=row['accuracy_model'] , s=\"{:.2f}%\".format(row['accuracy_model']*100))\n",
    "    \n",
    "    plt.bar(left, height, tick_label = tick_label,\n",
    "            width = 0.6, color = ['green'])  # plotting a bar chart\n",
    "    \n",
    "    plt.xlabel('models')                    # naming the x-axis\n",
    "    plt.ylabel('accuracy score')            # naming the y-axis   \n",
    "    plt.title('Model Accuracy Comparison')  # plot title \n",
    "    \n",
    "    plt.show()                              # function to show the plot\n",
    "    \n",
    "    # create directory to save the graph\n",
    "    directory = make_dir()\n",
    "    plt.savefig(directory + 'model_accuracy_comparison')                  # save the plot"
   ]
  },
  {
   "cell_type": "code",
   "execution_count": 227,
   "metadata": {},
   "outputs": [],
   "source": [
    "def main():\n",
    "    \n",
    "    # initialize appendable analysis.csv file (delete all data from last session)\n",
    "    initialize_file()\n",
    "    \n",
    "    # read all result csv files returned from executing models\n",
    "    available_models = read_csv()\n",
    "    \n",
    "    # create new analysis dataframe for each models and save to csv file\n",
    "    for model_name, model in available_models.items():\n",
    "        analysis_df = analysis(model, model_name)\n",
    "        save(analysis_df, model_name)\n",
    "    \n",
    "    # plot the graph\n",
    "    plot()"
   ]
  },
  {
   "cell_type": "code",
   "execution_count": 228,
   "metadata": {},
   "outputs": [
    {
     "name": "stdout",
     "output_type": "stream",
     "text": [
      "analysis.csv file initialized\n",
      "glove-twitter-25-details.csv info successfully stored in analysis.csv\n",
      "glove-twitter-50-details.csv info successfully stored in analysis.csv\n",
      "glove-wiki-gigaword-200-details.csv info successfully stored in analysis.csv\n",
      "word2vec-google-news-300-details.csv info successfully stored in analysis.csv\n"
     ]
    },
    {
     "data": {
      "image/png": "[encoded data removed]",
      "text/plain": [
       "<Figure size 432x288 with 1 Axes>"
      ]
     },
     "metadata": {
      "needs_background": "light"
     },
     "output_type": "display_data"
    },
    {
     "name": "stdout",
     "output_type": "stream",
     "text": [
      "Output Directory already exists\n",
      "Files will be stored in directory: c:\\Users\\rhina\\OneDrive\\Documents\\GitHub\\COMP472-Fall2021-A3/graphs/\n"
     ]
    },
    {
     "data": {
      "text/plain": [
       "<Figure size 432x288 with 0 Axes>"
      ]
     },
     "metadata": {},
     "output_type": "display_data"
    }
   ],
   "source": [
    "if __name__ == \"__main__\":\n",
    "    main()"
   ]
  }
 ],
 "metadata": {
  "interpreter": {
   "hash": "b57f895460dec02687b9e5a92e8158b77d00a27c68f06b1b3c2207406ad9da89"
  },
  "kernelspec": {
   "display_name": "Python 3.10.1 64-bit ('env64': venv)",
   "language": "python",
   "name": "python3"
  },
  "language_info": {
   "codemirror_mode": {
    "name": "ipython",
    "version": 3
   },
   "file_extension": ".py",
   "mimetype": "text/x-python",
   "name": "python",
   "nbconvert_exporter": "python",
   "pygments_lexer": "ipython3",
   "version": "3.10.1"
  },
  "orig_nbformat": 4
 },
 "nbformat": 4,
 "nbformat_minor": 2
}
